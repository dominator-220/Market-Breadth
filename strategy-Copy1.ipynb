{
 "cells": [
  {
   "cell_type": "code",
   "execution_count": 1,
   "metadata": {
    "_cell_guid": "b1076dfc-b9ad-4769-8c92-a6c4dae69d19",
    "_uuid": "8f2839f25d086af736a60e9eeb907d3b93b6e0e5",
    "execution": {
     "iopub.execute_input": "2022-12-23T07:33:58.364049Z",
     "iopub.status.busy": "2022-12-23T07:33:58.363595Z",
     "iopub.status.idle": "2022-12-23T07:34:37.867358Z",
     "shell.execute_reply": "2022-12-23T07:34:37.865805Z",
     "shell.execute_reply.started": "2022-12-23T07:33:58.364012Z"
    }
   },
   "outputs": [
    {
     "name": "stderr",
     "output_type": "stream",
     "text": [
      "C:\\Users\\Anshu\\Anaconda3\\lib\\site-packages\\pyfolio\\pos.py:26: UserWarning:\n",
      "\n",
      "Module \"zipline.assets\" not found; mutltipliers will not be applied to position notionals.\n",
      "\n"
     ]
    },
    {
     "ename": "ModuleNotFoundError",
     "evalue": "No module named 'talib'",
     "output_type": "error",
     "traceback": [
      "\u001b[1;31m---------------------------------------------------------------------------\u001b[0m",
      "\u001b[1;31mModuleNotFoundError\u001b[0m                       Traceback (most recent call last)",
      "\u001b[1;32m<ipython-input-1-19bf3666bce3>\u001b[0m in \u001b[0;36m<module>\u001b[1;34m\u001b[0m\n\u001b[0;32m     16\u001b[0m \u001b[1;32mfrom\u001b[0m \u001b[0mcollections\u001b[0m \u001b[1;32mimport\u001b[0m \u001b[0mdefaultdict\u001b[0m\u001b[1;33m\u001b[0m\u001b[1;33m\u001b[0m\u001b[0m\n\u001b[0;32m     17\u001b[0m \u001b[1;32mfrom\u001b[0m \u001b[0mdatetime\u001b[0m \u001b[1;32mimport\u001b[0m \u001b[0mdatetime\u001b[0m\u001b[1;33m\u001b[0m\u001b[1;33m\u001b[0m\u001b[0m\n\u001b[1;32m---> 18\u001b[1;33m \u001b[1;32mimport\u001b[0m \u001b[0mtalib\u001b[0m\u001b[1;33m\u001b[0m\u001b[1;33m\u001b[0m\u001b[0m\n\u001b[0m\u001b[0;32m     19\u001b[0m \u001b[1;32mimport\u001b[0m \u001b[0mwarnings\u001b[0m\u001b[1;33m\u001b[0m\u001b[1;33m\u001b[0m\u001b[0m\n\u001b[0;32m     20\u001b[0m \u001b[0mwarnings\u001b[0m\u001b[1;33m.\u001b[0m\u001b[0mfilterwarnings\u001b[0m\u001b[1;33m(\u001b[0m\u001b[1;34m\"ignore\"\u001b[0m\u001b[1;33m)\u001b[0m\u001b[1;33m\u001b[0m\u001b[1;33m\u001b[0m\u001b[0m\n",
      "\u001b[1;31mModuleNotFoundError\u001b[0m: No module named 'talib'"
     ]
    }
   ],
   "source": [
    "\n",
    "\n",
    "import numpy as np\n",
    "import pandas as pd\n",
    "import yfinance as yf\n",
    "import plotly.graph_objs as go\n",
    "import plotly.offline as py\n",
    "import seaborn as sns\n",
    "import matplotlib.pyplot as plt\n",
    "from plotly.subplots import make_subplots\n",
    "from sklearn.preprocessing import MinMaxScaler\n",
    "from sklearn.feature_selection import chi2\n",
    "import pyfolio as pf\n",
    "import plotly.express as px\n",
    "from termcolor import colored as cl\n",
    "import math\n",
    "from plotly.offline import plot, iplot, init_notebook_mode\n",
    "from collections import defaultdict\n",
    "from datetime import datetime\n",
    "import talib\n",
    "import warnings\n",
    "warnings.filterwarnings(\"ignore\")"
   ]
  },
  {
   "cell_type": "code",
   "execution_count": null,
   "metadata": {
    "execution": {
     "iopub.execute_input": "2022-12-23T07:34:43.728078Z",
     "iopub.status.busy": "2022-12-23T07:34:43.727633Z",
     "iopub.status.idle": "2022-12-23T07:34:44.032124Z",
     "shell.execute_reply": "2022-12-23T07:34:44.030956Z",
     "shell.execute_reply.started": "2022-12-23T07:34:43.728043Z"
    }
   },
   "outputs": [],
   "source": [
    "df=pd.read_csv('token-data.csv')"
   ]
  },
  {
   "cell_type": "code",
   "execution_count": null,
   "metadata": {},
   "outputs": [],
   "source": [
    "df['coin'].unique()"
   ]
  },
  {
   "cell_type": "code",
   "execution_count": null,
   "metadata": {},
   "outputs": [],
   "source": [
    "from datetime import datetime\n",
    "df['date']=pd.to_datetime(df['date'])\n",
    "df=df[df['date']>datetime(2020,1,1,0,0)]\n",
    "df"
   ]
  },
  {
   "cell_type": "markdown",
   "metadata": {},
   "source": [
    "\n",
    "# **Preprocessing**"
   ]
  },
  {
   "cell_type": "code",
   "execution_count": null,
   "metadata": {
    "execution": {
     "iopub.execute_input": "2022-12-23T07:34:45.658258Z",
     "iopub.status.busy": "2022-12-23T07:34:45.657103Z",
     "iopub.status.idle": "2022-12-23T07:34:45.693818Z",
     "shell.execute_reply": "2022-12-23T07:34:45.692145Z",
     "shell.execute_reply.started": "2022-12-23T07:34:45.658209Z"
    }
   },
   "outputs": [],
   "source": [
    "dct={\n",
    "    'coin':[],\n",
    "    'tot':[],\n",
    "    'val':[]\n",
    "}\n"
   ]
  },
  {
   "cell_type": "code",
   "execution_count": null,
   "metadata": {
    "execution": {
     "iopub.execute_input": "2022-12-23T07:34:58.436007Z",
     "iopub.status.busy": "2022-12-23T07:34:58.434703Z",
     "iopub.status.idle": "2022-12-23T07:34:58.470336Z",
     "shell.execute_reply": "2022-12-23T07:34:58.468728Z",
     "shell.execute_reply.started": "2022-12-23T07:34:58.435962Z"
    }
   },
   "outputs": [],
   "source": [
    "dfm=df.copy()\n",
    "for coin in dfm['coin'].unique():\n",
    "    df=dfm[dfm['coin']==coin]\n",
    "    df['mv']=df['price'].rolling(5).mean()\n",
    "    df['sig']=np.sign(df['price']-df['mv'])\n",
    "    df['period_ret']=(df['sig'].shift(1)*(df['price']-df['price'].shift(1)))/df['price'].shift(1)\n",
    "    df=df.dropna()\n",
    "    tot=df['period_ret'].cumsum().iloc[-1]\n",
    "    val=df[df.index%5<2]['period_ret'].cumsum().iloc[-1]\n",
    "    dct['coin'].append(coin)\n",
    "    dct['tot'].append(tot)\n",
    "    dct['val'].append(val)"
   ]
  },
  {
   "cell_type": "code",
   "execution_count": null,
   "metadata": {
    "execution": {
     "iopub.execute_input": "2022-12-23T07:35:07.937063Z",
     "iopub.status.busy": "2022-12-23T07:35:07.936535Z",
     "iopub.status.idle": "2022-12-23T07:35:08.017201Z",
     "shell.execute_reply": "2022-12-23T07:35:08.015814Z",
     "shell.execute_reply.started": "2022-12-23T07:35:07.937020Z"
    }
   },
   "outputs": [],
   "source": [
    "df_gg=pd.DataFrame(dct)"
   ]
  },
  {
   "cell_type": "code",
   "execution_count": null,
   "metadata": {
    "execution": {
     "iopub.execute_input": "2022-12-23T07:35:19.843831Z",
     "iopub.status.busy": "2022-12-23T07:35:19.843355Z",
     "iopub.status.idle": "2022-12-23T07:35:19.851210Z",
     "shell.execute_reply": "2022-12-23T07:35:19.849391Z",
     "shell.execute_reply.started": "2022-12-23T07:35:19.843791Z"
    }
   },
   "outputs": [],
   "source": [
    "df_gg[df_gg['tot']>0]"
   ]
  },
  {
   "cell_type": "code",
   "execution_count": null,
   "metadata": {
    "execution": {
     "iopub.execute_input": "2022-12-23T07:35:26.689705Z",
     "iopub.status.busy": "2022-12-23T07:35:26.689252Z",
     "iopub.status.idle": "2022-12-23T07:35:26.750748Z",
     "shell.execute_reply": "2022-12-23T07:35:26.749811Z",
     "shell.execute_reply.started": "2022-12-23T07:35:26.689662Z"
    }
   },
   "outputs": [],
   "source": [
    "df_gg[df_gg['tot']==df_gg['tot'].max()]"
   ]
  },
  {
   "cell_type": "code",
   "execution_count": null,
   "metadata": {},
   "outputs": [],
   "source": []
  },
  {
   "cell_type": "code",
   "execution_count": null,
   "metadata": {},
   "outputs": [],
   "source": [
    "df['period_ret'].cumsum().plot()"
   ]
  },
  {
   "cell_type": "code",
   "execution_count": null,
   "metadata": {},
   "outputs": [],
   "source": [
    "df[df.index%5==0]['period_ret'].cumsum().plot(label='0')\n",
    "df[df.index%5==1]['period_ret'].cumsum().plot(label='1')\n",
    "df[df.index%5==2]['period_ret'].cumsum().plot(label='2')\n",
    "df[df.index%5==3]['period_ret'].cumsum().plot(label='3')\n",
    "df[df.index%5==3]['period_ret'].cumsum().plot(label='4')\n",
    "plt.legend()"
   ]
  },
  {
   "cell_type": "code",
   "execution_count": null,
   "metadata": {},
   "outputs": [],
   "source": []
  },
  {
   "cell_type": "code",
   "execution_count": null,
   "metadata": {},
   "outputs": [],
   "source": []
  },
  {
   "cell_type": "code",
   "execution_count": null,
   "metadata": {},
   "outputs": [],
   "source": []
  },
  {
   "cell_type": "code",
   "execution_count": null,
   "metadata": {
    "execution": {
     "iopub.execute_input": "2022-12-23T07:35:39.436121Z",
     "iopub.status.busy": "2022-12-23T07:35:39.435667Z",
     "iopub.status.idle": "2022-12-23T07:35:39.442621Z",
     "shell.execute_reply": "2022-12-23T07:35:39.441070Z",
     "shell.execute_reply.started": "2022-12-23T07:35:39.436089Z"
    }
   },
   "outputs": [],
   "source": [
    "df2=df.groupby('date')"
   ]
  },
  {
   "cell_type": "code",
   "execution_count": null,
   "metadata": {
    "execution": {
     "iopub.execute_input": "2022-12-23T07:35:51.256641Z",
     "iopub.status.busy": "2022-12-23T07:35:51.256206Z",
     "iopub.status.idle": "2022-12-23T07:35:51.290955Z",
     "shell.execute_reply": "2022-12-23T07:35:51.289432Z",
     "shell.execute_reply.started": "2022-12-23T07:35:51.256594Z"
    }
   },
   "outputs": [],
   "source": [
    "li_date=sorted(list(set(df['date'])))\n",
    "print(len(li_date))\n",
    "#Finding total dates in the data"
   ]
  },
  {
   "cell_type": "code",
   "execution_count": null,
   "metadata": {
    "execution": {
     "iopub.execute_input": "2022-12-23T07:35:59.697292Z",
     "iopub.status.busy": "2022-12-23T07:35:59.696529Z",
     "iopub.status.idle": "2022-12-23T07:35:59.752766Z",
     "shell.execute_reply": "2022-12-23T07:35:59.751305Z",
     "shell.execute_reply.started": "2022-12-23T07:35:59.697214Z"
    }
   },
   "outputs": [],
   "source": [
    "df.groupby(['coin'])['date'].count().reset_index(\n",
    "  name='Count').sort_values(['Count'], ascending=False)\n",
    "#Finding order of tokens by their count in dataset"
   ]
  },
  {
   "cell_type": "code",
   "execution_count": null,
   "metadata": {
    "execution": {
     "iopub.execute_input": "2022-12-23T07:36:11.447288Z",
     "iopub.status.busy": "2022-12-23T07:36:11.446343Z",
     "iopub.status.idle": "2022-12-23T07:36:11.623935Z",
     "shell.execute_reply": "2022-12-23T07:36:11.622608Z",
     "shell.execute_reply.started": "2022-12-23T07:36:11.447240Z"
    }
   },
   "outputs": [],
   "source": [
    "df3=df.groupby(['coin','date']).agg('mean')\n",
    "#replacing multiple prices of a token on a given date by their mean."
   ]
  },
  {
   "cell_type": "code",
   "execution_count": null,
   "metadata": {
    "execution": {
     "iopub.execute_input": "2022-12-23T07:36:19.751726Z",
     "iopub.status.busy": "2022-12-23T07:36:19.751271Z",
     "iopub.status.idle": "2022-12-23T07:45:43.383309Z",
     "shell.execute_reply": "2022-12-23T07:45:43.381892Z",
     "shell.execute_reply.started": "2022-12-23T07:36:19.751691Z"
    }
   },
   "outputs": [],
   "source": [
    "for index, row in df.iterrows():\n",
    "    df.loc[index,'price']=df3['price'][row['coin']][row['date']]"
   ]
  },
  {
   "cell_type": "code",
   "execution_count": null,
   "metadata": {
    "execution": {
     "iopub.execute_input": "2022-12-23T07:45:43.385877Z",
     "iopub.status.busy": "2022-12-23T07:45:43.385354Z",
     "iopub.status.idle": "2022-12-23T07:45:43.593106Z",
     "shell.execute_reply": "2022-12-23T07:45:43.591568Z",
     "shell.execute_reply.started": "2022-12-23T07:45:43.385836Z"
    }
   },
   "outputs": [],
   "source": [
    "df.drop_duplicates(inplace=True)\n",
    "#Since we need only one price for a given day of a token we drop the remaining ones"
   ]
  },
  {
   "cell_type": "code",
   "execution_count": null,
   "metadata": {
    "execution": {
     "iopub.execute_input": "2022-12-23T07:45:43.595871Z",
     "iopub.status.busy": "2022-12-23T07:45:43.595003Z",
     "iopub.status.idle": "2022-12-23T07:45:43.646822Z",
     "shell.execute_reply": "2022-12-23T07:45:43.645983Z",
     "shell.execute_reply.started": "2022-12-23T07:45:43.595831Z"
    }
   },
   "outputs": [],
   "source": [
    "df.groupby(['coin'])['date'].count().reset_index(\n",
    "  name='Count').sort_values(['Count'], ascending=False).head(100)\n",
    "#Taking first 100 tokens by their count in dataset."
   ]
  },
  {
   "cell_type": "code",
   "execution_count": null,
   "metadata": {
    "execution": {
     "iopub.execute_input": "2022-12-23T07:45:43.649626Z",
     "iopub.status.busy": "2022-12-23T07:45:43.648820Z",
     "iopub.status.idle": "2022-12-23T07:45:43.694990Z",
     "shell.execute_reply": "2022-12-23T07:45:43.693697Z",
     "shell.execute_reply.started": "2022-12-23T07:45:43.649591Z"
    }
   },
   "outputs": [],
   "source": [
    "li_tokens=list(df.groupby(['coin'])['date'].count().reset_index(\n",
    "  name='Count').sort_values(['Count'], ascending=False)['coin'].head(100))\n",
    "val_tokens=['tether','usd-coin','binancecoin','matic-network','okb','theta-token','wrapped-bitcoin','quant-network','crypto-com-chain','huobi-token','true-usd','kucoin-shares','chiliz','gemini-dollar','compound-usd-coin','maker','rocket-pool','nexo','zilliqa','enjincoin','loopring','gnosis','celsius-degree-token','swissborg','band-protocol','golem','iotex','telcoin','coinex-token','livepeer','one']\n",
    "req_tokens=['tether','usd-coin','binancecoin','binance-usd','matic-network','staked-ether','okb','theta-token','dai','shiba-inu-wormhole','hex-ethw','uniswap-wormhole','wrapped-bitcoin','chainlink-wormhole','quant-network','vendetta-finance','near','frax','huobi-token','usdp','lido-dao-wormhole','true-usd','usdd','kucoin-shares','chiliz','bittorrent','gemini-dollar','maker', 'paxos-gold-wormhole','tether-gold']\n",
    "#li_tokens is list of top 100 tokens by count in dataset\n",
    "#val_tokens is list of top30 token by market cap\n",
    "#req_tokens is list of top15 token by market cap"
   ]
  },
  {
   "cell_type": "markdown",
   "metadata": {},
   "source": [
    "# Moving Average Calculation"
   ]
  },
  {
   "cell_type": "code",
   "execution_count": null,
   "metadata": {
    "execution": {
     "iopub.execute_input": "2022-12-23T07:45:43.696780Z",
     "iopub.status.busy": "2022-12-23T07:45:43.696324Z",
     "iopub.status.idle": "2022-12-23T07:47:48.986308Z",
     "shell.execute_reply": "2022-12-23T07:47:48.984855Z",
     "shell.execute_reply.started": "2022-12-23T07:45:43.696666Z"
    }
   },
   "outputs": [],
   "source": [
    "def ema(values, period):\n",
    "    df=pd.DataFrame(values)\n",
    "    df['ema']=df[0].ewm(span=period).mean()\n",
    "    return list(df['ema'])\n",
    "\n",
    "def hma(values, period):\n",
    "    df=pd.DataFrame(values)\n",
    "    df['ema']=df[0].ewm(span=period).mean()\n",
    "    s=df[0]\n",
    "    HMA = s.rolling(period//2).apply(lambda x: ((np.arange(period//2) + 1)*x).sum()/(np.arange(period//2) + 1).sum(), raw=True).multiply(2).sub(\n",
    "                            s.rolling(period).apply(lambda x: ((np.arange(period) + 1)*x).sum()/(np.arange(period) + 1).sum(), raw=True)\n",
    "                    ).rolling(int(np.sqrt(period))).apply(lambda x: ((np.arange(int(np.sqrt(period))) + 1)*x).sum()/(np.arange(int(np.sqrt(period))) + 1).sum(), raw=True)\n",
    "    return list(df['ema'])[:period]+list(HMA)[period:]\n",
    "\n",
    "ma_30=defaultdict(lambda:0)\n",
    "ema_30=defaultdict(lambda:0)\n",
    "hma_30=defaultdict(lambda:0)\n",
    "filled_price=defaultdict(lambda:0)\n",
    "ret=defaultdict(lambda:0)\n",
    "\n",
    "for token in li_tokens:\n",
    "    sum=0\n",
    "    tot=0\n",
    "    taken=[1]\n",
    "    for date in li_date:\n",
    "        try:\n",
    "            taken.append(df3['price'][token][date]+1)\n",
    "            indx=len(taken)-2\n",
    "            while(indx>=0 and taken[indx]==0):\n",
    "                taken[index]=taken[-1]\n",
    "                indx+=-1\n",
    "        except:\n",
    "            taken.append(taken[-1])\n",
    "    taken.pop(0)\n",
    "    #print(taken.count(0))\n",
    "    indx=0\n",
    "    for date in li_date:\n",
    "        filled_price[(token,date)]=taken[indx]\n",
    "        indx+=1\n",
    "    em=ema(taken,23)\n",
    "    hm=hma(taken,25)\n",
    "    indx=0\n",
    "    for date in li_date:\n",
    "        sum+=taken[indx]\n",
    "        ema_30[(token,date)]=em[indx]\n",
    "        hma_30[(token,date)]=hm[indx]\n",
    "        if(indx<30):\n",
    "            ma_30[(token,date)]=sum/(indx+1)\n",
    "        else:\n",
    "            sum-=taken[indx-30]\n",
    "            ma_30[(token,date)]=sum/30\n",
    "        \n",
    "        if(indx>0):\n",
    "            ret[(token,date)]= np.log(taken[indx]/taken[indx-1])\n",
    "        else:\n",
    "            ret[(token,date)]= 0\n",
    "            \n",
    "        indx+=1   "
   ]
  },
  {
   "cell_type": "markdown",
   "metadata": {},
   "source": [
    "**Plots**"
   ]
  },
  {
   "cell_type": "code",
   "execution_count": null,
   "metadata": {
    "execution": {
     "iopub.execute_input": "2022-12-23T07:47:48.988931Z",
     "iopub.status.busy": "2022-12-23T07:47:48.988400Z",
     "iopub.status.idle": "2022-12-23T07:47:49.020068Z",
     "shell.execute_reply": "2022-12-23T07:47:49.018259Z",
     "shell.execute_reply.started": "2022-12-23T07:47:48.988882Z"
    }
   },
   "outputs": [],
   "source": [
    "def plot1(df,buy_price,sell_price,c_price):\n",
    "    plt.figure(figsize=(25,10))\n",
    "    ax1 = plt.subplot2grid((8,1), (0,0), rowspan = 5, colspan = 1)\n",
    "\n",
    "\n",
    "\n",
    "    ax1.plot(df['price'], color = 'skyblue', linewidth = 2, label = 'CLOSE')\n",
    "    ax1.plot(df.index, buy_price, marker = '^', color = 'green', markersize = 7, label = 'HOLD SIGNAL', linewidth = 0)\n",
    "    ax1.plot(df.index, sell_price, marker = 'v', color = 'red', markersize = 7, label = 'SELL SIGNAL', linewidth = 0)\n",
    "    ax1.plot(df.index, c_price, marker = '<', color = 'blue', markersize = 7, label = 'LEAVE SIGNAL', linewidth = 0)\n",
    "#     plt.savefig('price.png')\n",
    "    ax1.legend()\n",
    "\n",
    "\n",
    "\n",
    "def plot2(df):\n",
    "    fig = make_subplots(rows=2, cols=1)\n",
    "\n",
    "    fig.append_trace(go.Scatter(\n",
    "       x=df.index,\n",
    "       y=df['price'],\n",
    "     name=\"price\"), row=1, col=1)\n",
    "\n",
    "    fig.append_trace(go.Scatter(\n",
    "       x=df.index,\n",
    "       y=df['tot'],name='total tokens'\n",
    "    ), row=2, col=1)\n",
    "\n",
    "\n",
    "    fig.update_layout(height=500, width=1000, title_text=\"Subplots\")\n",
    "    fig.show()\n",
    "    \n",
    "def plot3(df,buy_price,sell_price):\n",
    "#     plt.figure(figsize=(25,10))\n",
    "#     ax1 = plt.subplot2grid((8,1), (0,0), rowspan = 5, colspan = 1)\n",
    "\n",
    "\n",
    "#     ax1.plot(df['tot'], color = 'skyblue', linewidth = 2, label = 'CLOSE')\n",
    "#     ax1.plot(df.index, buy_price, marker = '^', color = 'green', markersize = 10, label = 'BUY SIGNAL', linewidth = 0)\n",
    "#     ax1.plot(df.index, sell_price, marker = 'v', color = 'r', markersize = 10, label = 'SELL SIGNAL', linewidth = 0)\n",
    "#     ax1.legend()\n",
    "    fig = px.line(df, x=df.index, y=df['tot'])\n",
    "\n",
    "    # Add Scatter plot\n",
    "    indx=0\n",
    "    for date in df.index:\n",
    "        if(sell_price[indx]!=np.nan):\n",
    "            fig.add_trace(go.Scatter(x=[date], y=[sell_price[indx]],showlegend=False, mode = 'markers',\n",
    "                                    marker=dict(\n",
    "                symbol='arrow-down',\n",
    "                color=\"red\",\n",
    "                size=16\n",
    "            )))\n",
    "        if(buy_price[indx]!=np.nan):\n",
    "            fig.add_trace(go.Scatter(x=[date], y=[buy_price[indx]],showlegend=False, mode = 'markers',\n",
    "                                    marker=dict(\n",
    "                symbol='arrow-up',\n",
    "                color=\"green\",\n",
    "                size=16\n",
    "            )))\n",
    "        indx+=1\n",
    "\n",
    "    # Display the plot\n",
    "    fig.show()\n",
    "    \n",
    "\n",
    "    # Display the plot\n",
    "    fig.show()\n",
    "    \n",
    "def plot4(df,tc,buy_price,sell_price,c_price):\n",
    "    fig = make_subplots(rows=2, cols=1)\n",
    "\n",
    "    fig.append_trace(go.Scatter(\n",
    "       x=df.index,\n",
    "       y=df['price'],\n",
    "     name=\"price\"), row=1, col=1)\n",
    "    indx=0\n",
    "    for date in df.index:\n",
    "        if(sell_price[indx]!=np.nan):\n",
    "            fig.append_trace(go.Scatter(x=[date], y=[sell_price[indx]],showlegend=False, mode = 'markers',\n",
    "                                    marker=dict(\n",
    "                symbol='arrow-down',\n",
    "                color=\"red\",\n",
    "                size=10\n",
    "            )),row=1,col=1)\n",
    "        if(buy_price[indx]!=np.nan):\n",
    "            fig.append_trace(go.Scatter(x=[date], y=[buy_price[indx]],showlegend=False, mode = 'markers',\n",
    "                                    marker=dict(\n",
    "                symbol='arrow-up',\n",
    "                color=\"green\",\n",
    "                size=10\n",
    "            )),row=1,col=1)\n",
    "        if(c_price[indx]!=np.nan):\n",
    "            fig.append_trace(go.Scatter(x=[date], y=[c_price[indx]],showlegend=False, mode = 'markers',\n",
    "                                    marker=dict(\n",
    "                symbol='arrow-right',\n",
    "                color=\"black\",\n",
    "                size=10\n",
    "            )),row=1,col=1)\n",
    "        \n",
    "        indx+=1\n",
    "\n",
    "    fig.append_trace(go.Scatter(\n",
    "       x=df.index,\n",
    "       y=df['tot'],name='total tokens',line_color='orange'\n",
    "    ), row=2, col=1)\n",
    "\n",
    "\n",
    "    fig.update_layout(height=500, width=1000, title_text=tc)\n",
    "    fig.show()\n",
    "\n",
    "\n",
    "\n",
    "def cci_30(tokens,date,sign):\n",
    "    sm=0\n",
    "    for token in tokens:\n",
    "        sm+=ema_30[(token,date)]\n",
    "    re=0\n",
    "    for token in tokens:\n",
    "        w=math.sqrt(ema_30[(token,date)])/math.sqrt(sm)\n",
    "        re+=w*sign[token]*ret[(token,date)]\n",
    "    return re\n",
    "\n",
    "def plot_returns(df):\n",
    "    fig = px.line(df, x=df.index, y=df['cci_returns'])\n",
    "    fig.show()\n",
    "\n",
    "\n",
    "            \n",
    "  \n",
    "\n",
    "\n"
   ]
  },
  {
   "cell_type": "markdown",
   "metadata": {},
   "source": [
    "**Strategy**"
   ]
  },
  {
   "cell_type": "code",
   "execution_count": null,
   "metadata": {
    "execution": {
     "iopub.execute_input": "2022-12-23T08:19:49.072425Z",
     "iopub.status.busy": "2022-12-23T08:19:49.071968Z",
     "iopub.status.idle": "2022-12-23T08:19:49.105064Z",
     "shell.execute_reply": "2022-12-23T08:19:49.103838Z",
     "shell.execute_reply.started": "2022-12-23T08:19:49.072391Z"
    }
   },
   "outputs": [],
   "source": [
    "def trade1(data,tc,c1=49,c2=10,c3=35):\n",
    "#     df=data.copy()\n",
    "#     df['bnh_returns']=[ret[(row['coin'],row['date'])] for index,row in df.iterrows()]\n",
    "\n",
    "#     df['ma30'] = [ma_30[(row['coin'],row['date'])] for index,row in df.iterrows()]\n",
    "#     #df['std'] = df['Adj Close'].rolling(window=20).std()\n",
    "#     df['price']=  [filled_price[(row['coin'],row['date'])] for index,row in df.iterrows()]\n",
    "# c1 is number of days you go for short signal once the call is generated.\n",
    "# c2 is the number of days you wait for shorting once the call is generated.\n",
    "# c3 is the number of days you go for long signal once the call is generated.\n",
    "    \n",
    "    str_returns=defaultdict(lambda:0)\n",
    "    cci_returns=defaultdict(lambda:0)\n",
    "    sign=defaultdict(lambda:0)\n",
    "    sm=defaultdict(lambda:0)\n",
    "    last=0\n",
    "    #signal=defaultdict(lambda:0)\n",
    "    indx=1\n",
    "    format = '%Y-%m-%d'\n",
    "    li=[]\n",
    "    buy_price = []\n",
    "    sell_price = []\n",
    "    c_price=[]\n",
    "    buy_price1 = []\n",
    "    sell_price1 = []\n",
    "    c_price1=[]\n",
    "    last1=0\n",
    "    last2=0\n",
    "    #c1=[750:930]\n",
    "    #c2=[1200:1530]\n",
    "    dates=li_date[1200:]\n",
    "    last_tot=0\n",
    "    for date in dates:\n",
    "        buy_price.append(np.nan)\n",
    "        sell_price.append(np.nan)\n",
    "        c_price.append(np.nan)\n",
    "        buy_price1.append(np.nan)\n",
    "        sell_price1.append(np.nan)\n",
    "        c_price1.append(np.nan)\n",
    "        z=[]\n",
    "        for token in li_tokens:\n",
    "            z.append([filled_price[(token,date)],token])\n",
    "        z.sort(reverse=True)\n",
    "        res=[i[1] for i in z[:31]]\n",
    "     \n",
    "        tot=0\n",
    "        for token in res:\n",
    "            if(filled_price[(token,date)]>ema_30[(token,date)]):\n",
    "                tot+=1\n",
    "        li.append(tot)\n",
    "        #print(date,tot-last_tot)\n",
    "        k=tot-last_tot\n",
    "        for token in li_tokens:\n",
    "            if(token!=tc):\n",
    "                continue\n",
    "#             print(date,sign[token],ret[(token,li_date[indx])])\n",
    "            str_returns[datetime.strptime(date, format)]+=sign[token]*ret[(token,date)]\n",
    "            sm[datetime.strptime(date, format)]+=ret[(token,date)]\n",
    "        cci_returns[datetime.strptime(date, format)]=cci_30(val_tokens,date,sign)\n",
    "        \n",
    "        #cooldown period of short call is over\n",
    "        if(last==1):\n",
    "            last=0\n",
    "            if(sign[tc]==0):\n",
    "                pass\n",
    "            else:\n",
    "                c_price[-1]=filled_price[(tc,date)]\n",
    "                c_price1[-1]=tot\n",
    "\n",
    "\n",
    "                for token in li_tokens:\n",
    "                    sign[token]=0\n",
    "            last=0\n",
    "        #cooldown period of long call is over.\n",
    "        if(last2>c3):\n",
    "            #print(date,last2)\n",
    "            last2=0\n",
    "            if(sign[tc]==0):\n",
    "                pass\n",
    "            else:\n",
    "                c_price[-1]=filled_price[(tc,date)]\n",
    "                c_price1[-1]=tot\n",
    "\n",
    "\n",
    "                for token in li_tokens:\n",
    "                    sign[token]=0\n",
    "        \n",
    "        #waiting period before actually shorting is over and you can short now.\n",
    "        if(last1==1):\n",
    "            #print(date,last1,last2)\n",
    "            if(last2>=1 and last2<=c3):\n",
    "                \n",
    "                \n",
    "                last1+=c3-last2+1\n",
    "                last+=c3-last2+1\n",
    "            else:\n",
    "           \n",
    "                sell_price[-1]=filled_price[(tc,date)]\n",
    "\n",
    "\n",
    "                for token in li_tokens:\n",
    "                    if(sign[token]==0):\n",
    "                        sign[token]=-1\n",
    "        \n",
    "        #condition triggering call for long\n",
    "        if(tot<4 and last==0 and last2==0):\n",
    "            buy_price[-1]=filled_price[(tc,date)]\n",
    "            buy_price1[-1]=tot\n",
    "            for token in li_tokens:\n",
    "                sign[token]=1\n",
    "            last2=1\n",
    "            \n",
    "            \n",
    "            \n",
    "        #condition triggering call for short\n",
    "        if(tot>24 and last==0):\n",
    "            if(tot>31):\n",
    "                pass\n",
    "            else:\n",
    "                sell_price1[-1]=tot\n",
    "                last=c1\n",
    "                last1=c2\n",
    "        if(last>0):\n",
    "            last-=1\n",
    "        if(last2>0):\n",
    "            last2+=1\n",
    "        if(last1>0):\n",
    "            last1-=1\n",
    "        last_tot=tot\n",
    "            \n",
    "        \n",
    "            \n",
    "        \n",
    "#         if(tot<3):\n",
    "#             for token in li_tokens:\n",
    "#                 if(sign[token]==-1):\n",
    "#                     sign[token]=0\n",
    "        indx+=1\n",
    "    df_returns=pd.DataFrame(str_returns,index=[0]).T\n",
    "    df_returns.rename(columns={0:'strategy_returns'},inplace=True)\n",
    "    df_returns['bnh_returns']=[sm[date] for date in df_returns.index]\n",
    "    df_returns['cci_returns']=[cci_returns[date] for date in df_returns.index]\n",
    "    df_returns['bnh_returns']=[sm[date] for date in df_returns.index]\n",
    "    df_returns['strategy_returns'].cumsum()[-1]\n",
    "    #return df_returns['strategy_returns'].cumsum()[-1]\n",
    "    print(\"Buy and hold returns:\",df_returns['bnh_returns'].cumsum()[-1])\n",
    "    print(\"Strategy returns:\",df_returns['strategy_returns'].cumsum()[-1])\n",
    "    df_returns[['cci_returns']] = df_returns[['cci_returns']].cumsum()\n",
    "\n",
    "    df_returns['price']=[filled_price[(tc,dates[i])] for i in range(len(df_returns))]\n",
    "    plot1(df_returns,buy_price,sell_price,c_price)\n",
    "\n",
    "#     plt.figure(figsize=(20, 8))\n",
    "#     plt.subplot(1,2,1)\n",
    "#     plt.plot(df_returns['price'])\n",
    "    df_returns['tot']=[li[i] for i in range(len(df_returns))]\n",
    "#     plt.subplot(1,2,2)\n",
    "#     plt.plot(df_returns.index,li)\n",
    "    plot2(df_returns)\n",
    "    plot_returns(df_returns)\n",
    "    plot3(df_returns,buy_price1,sell_price1)\n",
    "    plot4(df_returns,tc,buy_price,sell_price,c_price)\n",
    "#     fig=go.Figure([go.Scatter(x=df_returns.index, y=df_returns['tot'])])\n",
    "#     fig.show()\n",
    "    #plotting strategy historical performance over time\n",
    " \n",
    "    df_returns[['bnh_returns','strategy_returns']] = df_returns[['bnh_returns','strategy_returns']].cumsum()\n",
    "    df_returns[['bnh_returns','strategy_returns']].plot(grid=True, figsize=(12, 8))\n",
    "  \n",
    "    \n",
    "    pf.create_simple_tear_sheet(df_returns['strategy_returns'].diff())\n",
    "\n",
    "\n",
    "\n",
    "\n",
    "\n",
    "\n",
    "\n",
    "        \n",
    "        \n",
    "    "
   ]
  },
  {
   "cell_type": "code",
   "execution_count": null,
   "metadata": {
    "execution": {
     "iopub.execute_input": "2022-12-23T08:19:49.460565Z",
     "iopub.status.busy": "2022-12-23T08:19:49.460098Z",
     "iopub.status.idle": "2022-12-23T08:19:52.066509Z",
     "shell.execute_reply": "2022-12-23T08:19:52.064982Z",
     "shell.execute_reply.started": "2022-12-23T08:19:49.460530Z"
    }
   },
   "outputs": [],
   "source": [
    "tc='wrapped-bitcoin'\n",
    "trade1(df,tc,47,7,33)"
   ]
  },
  {
   "cell_type": "code",
   "execution_count": 2,
   "metadata": {},
   "outputs": [
    {
     "name": "stdout",
     "output_type": "stream",
     "text": [
      "3.8.8 (default, Apr 13 2021, 15:08:03) [MSC v.1916 64 bit (AMD64)]\n"
     ]
    }
   ],
   "source": [
    "import sys\n",
    "print(sys.version)"
   ]
  },
  {
   "cell_type": "code",
   "execution_count": null,
   "metadata": {},
   "outputs": [],
   "source": []
  }
 ],
 "metadata": {
  "kernelspec": {
   "display_name": "Python 3",
   "language": "python",
   "name": "python3"
  },
  "language_info": {
   "codemirror_mode": {
    "name": "ipython",
    "version": 3
   },
   "file_extension": ".py",
   "mimetype": "text/x-python",
   "name": "python",
   "nbconvert_exporter": "python",
   "pygments_lexer": "ipython3",
   "version": "3.8.8"
  }
 },
 "nbformat": 4,
 "nbformat_minor": 4
}
